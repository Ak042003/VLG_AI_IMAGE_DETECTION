{
  "cells": [
    {
      "attachments": {},
      "cell_type": "markdown",
      "metadata": {},
      "source": [
        "Installing the required libraries"
      ]
    },
    {
      "cell_type": "code",
      "execution_count": null,
      "metadata": {
        "id": "e-tWo79qXzZs"
      },
      "outputs": [],
      "source": [
        "import numpy as np\n",
        "import pandas as pd\n",
        "import seaborn as sns\n",
        "import matplotlib.pyplot as plt \n",
        "import tensorflow as tf\n",
        "import keras\n",
        "import sklearn\n",
        "from sklearn.model_selection import train_test_split"
      ]
    },
    {
      "attachments": {},
      "cell_type": "markdown",
      "metadata": {},
      "source": [
        "Loading the Dataset Information"
      ]
    },
    {
      "cell_type": "code",
      "execution_count": null,
      "metadata": {
        "colab": {
          "base_uri": "https://localhost:8080/"
        },
        "id": "r8hts409XzZw",
        "outputId": "d2639506-85dc-4d6a-aec9-a991aa6b5633"
      },
      "outputs": [],
      "source": [
        "df_train = pd.read_csv(r\"C:\\Users\\Arpan Kumar\\OneDrive\\Desktop\\code\\Dataset\\train.csv\")\n",
        "df_test = pd.read_csv(r\"C:\\Users\\Arpan Kumar\\OneDrive\\Desktop\\code\\Dataset\\test.csv\")"
      ]
    },
    {
      "attachments": {},
      "cell_type": "markdown",
      "metadata": {},
      "source": [
        "Exploring the dataset"
      ]
    },
    {
      "cell_type": "code",
      "execution_count": null,
      "metadata": {
        "colab": {
          "base_uri": "https://localhost:8080/",
          "height": 299
        },
        "id": "TfQnN5DdXzZz",
        "outputId": "0d8e5eaf-80e5-4a11-8a03-6a6f755b7d33"
      },
      "outputs": [],
      "source": [
        "df_train.head()"
      ]
    },
    {
      "cell_type": "code",
      "execution_count": null,
      "metadata": {
        "colab": {
          "base_uri": "https://localhost:8080/",
          "height": 393
        },
        "id": "kxur6kUBXzZ0",
        "outputId": "6c9deb1d-dff5-4f7b-f8a8-36f7ffbef361"
      },
      "outputs": [],
      "source": [
        "df_train.describe()"
      ]
    },
    {
      "cell_type": "code",
      "execution_count": null,
      "metadata": {
        "colab": {
          "base_uri": "https://localhost:8080/",
          "height": 522
        },
        "id": "1C7Gt_HuXzZ0",
        "outputId": "cd213643-0f8a-4a17-b68d-79dd59b5012a"
      },
      "outputs": [],
      "source": [
        "print(\"Number of real images :\",df_train[\"labels\"][df_train[\"labels\"]==1].count(),\",\",'{:1.2f}'.format(100*df_train[\"labels\"][df_train[\"labels\"]==1].count()/df_train[\"labels\"].count()),\"%\")\n",
        "print(\"Number of fake images :\",df_train[\"labels\"][df_train[\"labels\"]==0].count(),\",\",'{:1.2f}'.format(100*df_train[\"labels\"][df_train[\"labels\"]==0].count()/df_train[\"labels\"].count()),\"%\")\n",
        "\n",
        "fig,ax=plt.subplots(1,1,figsize=(10,5),sharey=True)\n",
        "sns.countplot(x=df_train[\"labels\"]).set(xticklabels=[\"Fake\",\"Real\"],title=\"Proportion of Fake and Real Images in the Training Dataset\")\n",
        "for p in ax.patches:\n",
        "    height = p.get_height()\n",
        "    ax.text(p.get_x()+p.get_width()/2,height + 8,'{:1.2f}%'.format(100*height/5250),ha=\"center\")"
      ]
    },
    {
      "cell_type": "code",
      "execution_count": null,
      "metadata": {
        "colab": {
          "base_uri": "https://localhost:8080/"
        },
        "id": "05npWUGEXzZ1",
        "outputId": "b920dda4-2da6-4f22-9030-e42d96152f96"
      },
      "outputs": [],
      "source": [
        "y_train = df_train.iloc[:,0]\n",
        "x_train = df_train.iloc[:,1:]\n",
        "x_test = df_test.iloc[:,1:]\n",
        "print(y_train.shape)\n",
        "print(x_train.shape)\n",
        "\n",
        "x_train,x_val,y_train,y_val = train_test_split(x_train,y_train,test_size=0.3,random_state=0)"
      ]
    },
    {
      "attachments": {},
      "cell_type": "markdown",
      "metadata": {},
      "source": [
        "Model Building"
      ]
    },
    {
      "cell_type": "code",
      "execution_count": null,
      "metadata": {
        "colab": {
          "base_uri": "https://localhost:8080/",
          "height": 74
        },
        "id": "riimM0TBjiDs",
        "outputId": "4bc777a1-e99d-4a7c-f888-b9389fe7f729"
      },
      "outputs": [],
      "source": [
        "import lightgbm as lgb\n",
        "clf = lgb.LGBMClassifier()\n",
        "clf.fit(x_train, y_train)"
      ]
    },
    {
      "attachments": {},
      "cell_type": "markdown",
      "metadata": {},
      "source": [
        "Predictions from model"
      ]
    },
    {
      "cell_type": "code",
      "execution_count": null,
      "metadata": {
        "colab": {
          "base_uri": "https://localhost:8080/"
        },
        "id": "uhJxPCZDXzZ2",
        "outputId": "f44d5b4f-8f27-42ce-aeeb-1377777a86e4"
      },
      "outputs": [],
      "source": [
        "real=0\n",
        "df= pd.DataFrame(columns=['id', 'label'])\n",
        "print(df)\n",
        "for i in range(len(x_test)):\n",
        "    if(clf.predict(x_test[i:i+1])<0.5):\n",
        "        df=pd.concat([df, pd.DataFrame([{'id': i+1, 'label': 0}])], ignore_index=True)\n",
        "        print(\"Fake\")\n",
        "    else:\n",
        "        df=pd.concat([df, pd.DataFrame([{'id': i+1, 'label': 1}])], ignore_index=True)\n",
        "        real+=1\n",
        "        print(\"Real\")\n",
        "\n",
        "fake=2250-real\n",
        "print(real)\n",
        "print(fake)"
      ]
    },
    {
      "attachments": {},
      "cell_type": "markdown",
      "metadata": {},
      "source": [
        "Storing predictions in csv file"
      ]
    },
    {
      "cell_type": "code",
      "execution_count": null,
      "metadata": {
        "id": "oQPI-T-yXzZ3"
      },
      "outputs": [],
      "source": [
        "df.to_csv(r\"C:\\Users\\Arpan Kumar\\OneDrive\\Desktop\\code\\Dataset\\submission.csv\",index=False)"
      ]
    }
  ],
  "metadata": {
    "colab": {
      "provenance": []
    },
    "kernelspec": {
      "display_name": "Python 3",
      "language": "python",
      "name": "python3"
    },
    "language_info": {
      "codemirror_mode": {
        "name": "ipython",
        "version": 3
      },
      "file_extension": ".py",
      "mimetype": "text/x-python",
      "name": "python",
      "nbconvert_exporter": "python",
      "pygments_lexer": "ipython3",
      "version": "3.11.3"
    },
    "orig_nbformat": 4
  },
  "nbformat": 4,
  "nbformat_minor": 0
}
